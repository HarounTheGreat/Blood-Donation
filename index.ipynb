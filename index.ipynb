{
 "cells": [
  {
<<<<<<< HEAD
   "attachments": {},
   "cell_type": "markdown",
   "metadata": {},
   "source": [
    "Import library "
   ]
  },
  {
   "cell_type": "code",
   "execution_count": 281,
=======
   "cell_type": "code",
   "execution_count": 267,
>>>>>>> 019f767aebc49477780ef47b7a04e45c8b355dae
   "metadata": {},
   "outputs": [],
   "source": [
    "import pandas as pd\n",
    "import numpy as np\n",
    "import matplotlib.pyplot as plt\n",
<<<<<<< HEAD
    "import string\n",
    "import xlsxwriter"
   ]
  },
  {
   "attachments": {},
   "cell_type": "markdown",
   "metadata": {},
   "source": [
    "## uploading the dataset\n",
    "### Turning the file from .tab File type to .csv"
=======
    "import string"
>>>>>>> 019f767aebc49477780ef47b7a04e45c8b355dae
   ]
  },
  {
   "cell_type": "code",
<<<<<<< HEAD
   "execution_count": 282,
=======
   "execution_count": 268,
>>>>>>> 019f767aebc49477780ef47b7a04e45c8b355dae
   "metadata": {},
   "outputs": [
    {
     "data": {
      "text/plain": [
       "pandas.core.frame.DataFrame"
      ]
     },
<<<<<<< HEAD
     "execution_count": 282,
=======
     "execution_count": 268,
>>>>>>> 019f767aebc49477780ef47b7a04e45c8b355dae
     "metadata": {},
     "output_type": "execute_result"
    }
   ],
   "source": [
    "op = pd.read_csv('./datasets/Blood_Pressure.tab')\n",
<<<<<<< HEAD
    "type(op)\n",
    "# op.to_csv('file_name.csv')\n"
   ]
  },
  {
   "attachments": {},
   "cell_type": "markdown",
   "metadata": {},
   "source": [
    "* DateTime \n",
    "* Date \n",
    "* Month \n",
    "* Day \n",
    "* Year \n",
    "* DayofWk \n",
    "* Time \n",
    "* Hour \n",
    "* Meal_Time \n",
    "* Sys(mmHg) \n",
    "* SysExcess \n",
    "* Dias(mmHg) \n",
    "* DiaExcess \n",
    "* bpDelta \n",
    "* Pulse(bpm)"
=======
    "type(op)"
>>>>>>> 019f767aebc49477780ef47b7a04e45c8b355dae
   ]
  },
  {
   "cell_type": "code",
<<<<<<< HEAD
   "execution_count": 283,
=======
   "execution_count": 269,
   "metadata": {},
   "outputs": [],
   "source": [
    "op.to_csv('file_name.csv')"
   ]
  },
  {
   "cell_type": "code",
   "execution_count": 270,
>>>>>>> 019f767aebc49477780ef47b7a04e45c8b355dae
   "metadata": {},
   "outputs": [],
   "source": [
    "T=op[\"DateTime\\tDate\\tMonth\\tDay\\tYear\\tDayofWk\\tTime\\tHour\\tMeal_Time\\tSys(mmHg)\\tSysExcess\\tDias(mmHg)\\tDiaExcess\\tbpDelta\\tPulse(bpm)\"]"
   ]
  },
  {
<<<<<<< HEAD
   "attachments": {},
   "cell_type": "markdown",
   "metadata": {},
   "source": [
    "### prepare to create a new excel sheet \n",
    "\n",
    "In this exemple the Excel sheet name is \n",
    "\n",
    "<h1> Blood </h1>"
   ]
  },
  {
   "cell_type": "code",
   "execution_count": 284,
   "metadata": {},
   "outputs": [],
   "source": [
=======
   "cell_type": "code",
   "execution_count": 271,
   "metadata": {},
   "outputs": [],
   "source": [
    "import xlsxwriter\n",
>>>>>>> 019f767aebc49477780ef47b7a04e45c8b355dae
    "workbook = xlsxwriter.Workbook('./Blood.xlsx')\n",
    "worksheet = workbook.add_worksheet()"
   ]
  },
  {
   "cell_type": "code",
<<<<<<< HEAD
   "execution_count": 285,
=======
   "execution_count": 272,
>>>>>>> 019f767aebc49477780ef47b7a04e45c8b355dae
   "metadata": {},
   "outputs": [
    {
     "name": "stdout",
     "output_type": "stream",
     "text": [
      "['2019-08-01', '09:15:54', '2019-08-01', '8', '1', '2019', '\"Thu\"', '\"09:15:54\"', '9', '\"Breakfast\"', '132', '-2', '80', '0', '52', '79']\n",
      "16\n"
     ]
    }
   ],
   "source": [
<<<<<<< HEAD
    "x = T[0].split()\n",
    "print(x)\n",
=======
    "\n",
    "x = T[0].split()\n",
    "\n",
    "print(x)\n",
    "\n",
>>>>>>> 019f767aebc49477780ef47b7a04e45c8b355dae
    "print(len(x))"
   ]
  },
  {
   "cell_type": "code",
<<<<<<< HEAD
   "execution_count": 286,
=======
   "execution_count": 273,
>>>>>>> 019f767aebc49477780ef47b7a04e45c8b355dae
   "metadata": {},
   "outputs": [
    {
     "data": {
      "text/plain": [
       "['DateTime',\n",
       " 'Date',\n",
       " 'Month',\n",
       " 'Day',\n",
       " 'Year',\n",
       " 'DayofWk',\n",
       " 'Time',\n",
       " 'Hour',\n",
       " 'Meal_Time',\n",
       " 'Sys(mmHg)',\n",
       " 'SysExcess',\n",
       " 'Dias(mmHg)',\n",
       " 'DiaExcess',\n",
       " 'bpDelta',\n",
       " 'Pulse(bpm)']"
      ]
     },
<<<<<<< HEAD
     "execution_count": 286,
=======
     "execution_count": 273,
>>>>>>> 019f767aebc49477780ef47b7a04e45c8b355dae
     "metadata": {},
     "output_type": "execute_result"
    }
   ],
   "source": [
    "A=\"DateTime\\tDate\\tMonth\\tDay\\tYear\\tDayofWk\\tTime\\tHour\\tMeal_Time\\tSys(mmHg)\\tSysExcess\\tDias(mmHg)\\tDiaExcess\\tbpDelta\\tPulse(bpm)\"\n",
    "\n",
    "new_A= A.split('\\t')\n",
    "\n",
    "\n",
    "new_A"
   ]
  },
  {
   "cell_type": "code",
<<<<<<< HEAD
   "execution_count": 287,
=======
   "execution_count": 274,
>>>>>>> 019f767aebc49477780ef47b7a04e45c8b355dae
   "metadata": {},
   "outputs": [
    {
     "name": "stdout",
     "output_type": "stream",
     "text": [
      "['A', 'B', 'C', 'D', 'E', 'F', 'G', 'H', 'I', 'J', 'K', 'L', 'M', 'N', 'O', 'P', 'Q', 'R', 'S', 'T', 'U', 'V', 'W', 'X', 'Y', 'Z']\n"
     ]
    }
   ],
   "source": [
    "alphabet = list(string.ascii_uppercase)\n",
    "print(alphabet)"
   ]
  },
  {
   "cell_type": "code",
<<<<<<< HEAD
   "execution_count": 288,
=======
   "execution_count": 275,
>>>>>>> 019f767aebc49477780ef47b7a04e45c8b355dae
   "metadata": {},
   "outputs": [],
   "source": [
    "for i in range(len(new_A)):\n",
    "    srt_i=str(i+1)\n",
    "    worksheet.write(alphabet[i] + '1', new_A[i])"
   ]
  },
  {
   "cell_type": "code",
<<<<<<< HEAD
   "execution_count": 289,
=======
   "execution_count": 276,
>>>>>>> 019f767aebc49477780ef47b7a04e45c8b355dae
   "metadata": {},
   "outputs": [],
   "source": [
    "x=T[0].split('\\t')"
   ]
  },
  {
   "cell_type": "code",
<<<<<<< HEAD
   "execution_count": 290,
=======
   "execution_count": 277,
>>>>>>> 019f767aebc49477780ef47b7a04e45c8b355dae
   "metadata": {},
   "outputs": [
    {
     "data": {
      "text/plain": [
       "['2019-08-01 09:15:54',\n",
       " '2019-08-01',\n",
       " '8',\n",
       " '1',\n",
       " '2019',\n",
       " '\"Thu\"',\n",
       " '\"09:15:54\"',\n",
       " '9',\n",
       " '\"Breakfast\"',\n",
       " '132',\n",
       " '-2',\n",
       " '80',\n",
       " '0',\n",
       " '52',\n",
       " '79']"
      ]
     },
<<<<<<< HEAD
     "execution_count": 290,
=======
     "execution_count": 277,
>>>>>>> 019f767aebc49477780ef47b7a04e45c8b355dae
     "metadata": {},
     "output_type": "execute_result"
    }
   ],
   "source": [
    "x"
   ]
  },
  {
   "cell_type": "code",
<<<<<<< HEAD
   "execution_count": 291,
=======
   "execution_count": 278,
>>>>>>> 019f767aebc49477780ef47b7a04e45c8b355dae
   "metadata": {},
   "outputs": [],
   "source": [
    "p=1\n",
    "for i in range(len(T)):\n",
    "    x=T[i].split('\\t')\n",
    "    k=0\n",
    "    p=p+1\n",
    "    for j in x:\n",
    "        worksheet.write(alphabet[k] + str(p),j)\n",
    "        k=k+1"
   ]
  },
  {
   "cell_type": "code",
<<<<<<< HEAD
   "execution_count": 292,
=======
   "execution_count": 279,
   "metadata": {},
   "outputs": [],
   "source": [
    "# for i in range(len(T)):\n",
    "#     x=T[i].split('\\t')\n",
    "#     k=0\n",
    "#     print(len(T))\n",
    "#     for j in x:\n",
    "#         k=k+1\n",
    "#         print(k,j)\n",
    "#         print(alphabet[k+1])\n",
    "#         worksheet.write(alphabet[k] + str(k), j)"
   ]
  },
  {
   "cell_type": "code",
   "execution_count": 280,
>>>>>>> 019f767aebc49477780ef47b7a04e45c8b355dae
   "metadata": {},
   "outputs": [],
   "source": [
    "workbook.close()"
   ]
  }
 ],
 "metadata": {
  "kernelspec": {
   "display_name": "base",
   "language": "python",
   "name": "python3"
  },
  "language_info": {
   "codemirror_mode": {
    "name": "ipython",
    "version": 3
   },
   "file_extension": ".py",
   "mimetype": "text/x-python",
   "name": "python",
   "nbconvert_exporter": "python",
   "pygments_lexer": "ipython3",
<<<<<<< HEAD
   "version": "3.9.13 (main, Aug 25 2022, 23:51:50) [MSC v.1916 64 bit (AMD64)]"
=======
   "version": "3.9.13"
>>>>>>> 019f767aebc49477780ef47b7a04e45c8b355dae
  },
  "orig_nbformat": 4,
  "vscode": {
   "interpreter": {
    "hash": "56699ad186de687e8c88be56bb9159ab08e118de17f06b9ea44a37a44e066d8d"
   }
  }
 },
 "nbformat": 4,
 "nbformat_minor": 2
}
