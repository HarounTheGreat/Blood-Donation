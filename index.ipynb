{
 "cells": [
  {
   "cell_type": "code",
   "execution_count": 267,
   "metadata": {},
   "outputs": [],
   "source": [
    "import pandas as pd\n",
    "import numpy as np\n",
    "import matplotlib.pyplot as plt\n",
    "import string"
   ]
  },
  {
   "cell_type": "code",
   "execution_count": 268,
   "metadata": {},
   "outputs": [
    {
     "data": {
      "text/plain": [
       "pandas.core.frame.DataFrame"
      ]
     },
     "execution_count": 268,
     "metadata": {},
     "output_type": "execute_result"
    }
   ],
   "source": [
    "op = pd.read_csv('./datasets/Blood_Pressure.tab')\n",
    "type(op)"
   ]
  },
  {
   "cell_type": "code",
   "execution_count": 269,
   "metadata": {},
   "outputs": [],
   "source": [
    "op.to_csv('file_name.csv')"
   ]
  },
  {
   "cell_type": "code",
   "execution_count": 270,
   "metadata": {},
   "outputs": [],
   "source": [
    "T=op[\"DateTime\\tDate\\tMonth\\tDay\\tYear\\tDayofWk\\tTime\\tHour\\tMeal_Time\\tSys(mmHg)\\tSysExcess\\tDias(mmHg)\\tDiaExcess\\tbpDelta\\tPulse(bpm)\"]"
   ]
  },
  {
   "cell_type": "code",
   "execution_count": 271,
   "metadata": {},
   "outputs": [],
   "source": [
    "import xlsxwriter\n",
    "workbook = xlsxwriter.Workbook('./Blood.xlsx')\n",
    "worksheet = workbook.add_worksheet()"
   ]
  },
  {
   "cell_type": "code",
   "execution_count": 272,
   "metadata": {},
   "outputs": [
    {
     "name": "stdout",
     "output_type": "stream",
     "text": [
      "['2019-08-01', '09:15:54', '2019-08-01', '8', '1', '2019', '\"Thu\"', '\"09:15:54\"', '9', '\"Breakfast\"', '132', '-2', '80', '0', '52', '79']\n",
      "16\n"
     ]
    }
   ],
   "source": [
    "\n",
    "x = T[0].split()\n",
    "\n",
    "print(x)\n",
    "\n",
    "print(len(x))"
   ]
  },
  {
   "cell_type": "code",
   "execution_count": 273,
   "metadata": {},
   "outputs": [
    {
     "data": {
      "text/plain": [
       "['DateTime',\n",
       " 'Date',\n",
       " 'Month',\n",
       " 'Day',\n",
       " 'Year',\n",
       " 'DayofWk',\n",
       " 'Time',\n",
       " 'Hour',\n",
       " 'Meal_Time',\n",
       " 'Sys(mmHg)',\n",
       " 'SysExcess',\n",
       " 'Dias(mmHg)',\n",
       " 'DiaExcess',\n",
       " 'bpDelta',\n",
       " 'Pulse(bpm)']"
      ]
     },
     "execution_count": 273,
     "metadata": {},
     "output_type": "execute_result"
    }
   ],
   "source": [
    "A=\"DateTime\\tDate\\tMonth\\tDay\\tYear\\tDayofWk\\tTime\\tHour\\tMeal_Time\\tSys(mmHg)\\tSysExcess\\tDias(mmHg)\\tDiaExcess\\tbpDelta\\tPulse(bpm)\"\n",
    "\n",
    "new_A= A.split('\\t')\n",
    "\n",
    "\n",
    "new_A"
   ]
  },
  {
   "cell_type": "code",
   "execution_count": 274,
   "metadata": {},
   "outputs": [
    {
     "name": "stdout",
     "output_type": "stream",
     "text": [
      "['A', 'B', 'C', 'D', 'E', 'F', 'G', 'H', 'I', 'J', 'K', 'L', 'M', 'N', 'O', 'P', 'Q', 'R', 'S', 'T', 'U', 'V', 'W', 'X', 'Y', 'Z']\n"
     ]
    }
   ],
   "source": [
    "alphabet = list(string.ascii_uppercase)\n",
    "print(alphabet)"
   ]
  },
  {
   "cell_type": "code",
   "execution_count": 275,
   "metadata": {},
   "outputs": [],
   "source": [
    "for i in range(len(new_A)):\n",
    "    srt_i=str(i+1)\n",
    "    worksheet.write(alphabet[i] + '1', new_A[i])"
   ]
  },
  {
   "cell_type": "code",
   "execution_count": 276,
   "metadata": {},
   "outputs": [],
   "source": [
    "x=T[0].split('\\t')"
   ]
  },
  {
   "cell_type": "code",
   "execution_count": 277,
   "metadata": {},
   "outputs": [
    {
     "data": {
      "text/plain": [
       "['2019-08-01 09:15:54',\n",
       " '2019-08-01',\n",
       " '8',\n",
       " '1',\n",
       " '2019',\n",
       " '\"Thu\"',\n",
       " '\"09:15:54\"',\n",
       " '9',\n",
       " '\"Breakfast\"',\n",
       " '132',\n",
       " '-2',\n",
       " '80',\n",
       " '0',\n",
       " '52',\n",
       " '79']"
      ]
     },
     "execution_count": 277,
     "metadata": {},
     "output_type": "execute_result"
    }
   ],
   "source": [
    "x"
   ]
  },
  {
   "cell_type": "code",
   "execution_count": 278,
   "metadata": {},
   "outputs": [],
   "source": [
    "p=1\n",
    "for i in range(len(T)):\n",
    "    x=T[i].split('\\t')\n",
    "    k=0\n",
    "    p=p+1\n",
    "    for j in x:\n",
    "        worksheet.write(alphabet[k] + str(p),j)\n",
    "        k=k+1"
   ]
  },
  {
   "cell_type": "code",
   "execution_count": 279,
   "metadata": {},
   "outputs": [],
   "source": [
    "# for i in range(len(T)):\n",
    "#     x=T[i].split('\\t')\n",
    "#     k=0\n",
    "#     print(len(T))\n",
    "#     for j in x:\n",
    "#         k=k+1\n",
    "#         print(k,j)\n",
    "#         print(alphabet[k+1])\n",
    "#         worksheet.write(alphabet[k] + str(k), j)"
   ]
  },
  {
   "cell_type": "code",
   "execution_count": 280,
   "metadata": {},
   "outputs": [],
   "source": [
    "workbook.close()"
   ]
  }
 ],
 "metadata": {
  "kernelspec": {
   "display_name": "base",
   "language": "python",
   "name": "python3"
  },
  "language_info": {
   "codemirror_mode": {
    "name": "ipython",
    "version": 3
   },
   "file_extension": ".py",
   "mimetype": "text/x-python",
   "name": "python",
   "nbconvert_exporter": "python",
   "pygments_lexer": "ipython3",
   "version": "3.9.13"
  },
  "orig_nbformat": 4,
  "vscode": {
   "interpreter": {
    "hash": "56699ad186de687e8c88be56bb9159ab08e118de17f06b9ea44a37a44e066d8d"
   }
  }
 },
 "nbformat": 4,
 "nbformat_minor": 2
}
